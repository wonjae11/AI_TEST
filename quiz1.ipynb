{
  "cells": [
    {
      "cell_type": "markdown",
      "metadata": {
        "id": "view-in-github",
        "colab_type": "text"
      },
      "source": [
        "<a href=\"https://colab.research.google.com/github/wonjae11/AI_TEST/blob/main/quiz1.ipynb\" target=\"_parent\"><img src=\"https://colab.research.google.com/assets/colab-badge.svg\" alt=\"Open In Colab\"/></a>"
      ]
    },
    {
      "cell_type": "markdown",
      "metadata": {
        "id": "oNDOewi1H_29"
      },
      "source": [
        "## PyTorch Quiz 1 : Tensor 초기화"
      ]
    },
    {
      "cell_type": "markdown",
      "metadata": {
        "id": "s6aJce5GH_2-"
      },
      "source": [
        "### 1. 빈 Tensor 생성하기\n",
        "다음 조건에 맞는 Tensor를 생성하세요.\n",
        "- 3x4 크기의 Tensor\n",
        "- 값이 초기화되지 않은 상태"
      ]
    },
    {
      "cell_type": "code",
      "execution_count": null,
      "metadata": {
        "colab": {
          "base_uri": "https://localhost:8080/"
        },
        "id": "uQTC6CxfH_2_",
        "outputId": "bb9641f5-b4bb-45d1-b9dc-dad043163999"
      },
      "outputs": [
        {
          "output_type": "execute_result",
          "data": {
            "text/plain": [
              "tensor([[1.5336e-36, 4.4553e-41, 1.5338e-36, 4.4553e-41],\n",
              "        [1.5338e-36, 4.4553e-41, 1.5338e-36, 4.4553e-41],\n",
              "        [1.5338e-36, 4.4553e-41, 1.5338e-36, 4.4553e-41]])"
            ]
          },
          "metadata": {},
          "execution_count": 1
        }
      ],
      "source": [
        "import torch\n",
        "import numpy as np\n",
        "\n",
        "x = torch.empty(3,4)\n",
        "x"
      ]
    },
    {
      "cell_type": "markdown",
      "metadata": {
        "id": "X9lXXig0H_2_"
      },
      "source": [
        "### 2. 0으로 채워진 Tensor 생성하기\n",
        "다음과 같은 Tensor를 생성하세요.\n",
        "- 2x5x3 크기의 Tensor\n",
        "- 데이터 타입은 float64"
      ]
    },
    {
      "cell_type": "code",
      "execution_count": null,
      "metadata": {
        "colab": {
          "base_uri": "https://localhost:8080/"
        },
        "id": "3ek718yXH_2_",
        "outputId": "253e584e-c93d-4c32-c243-e7a6330273a9"
      },
      "outputs": [
        {
          "output_type": "execute_result",
          "data": {
            "text/plain": [
              "tensor([[[0., 0., 0.],\n",
              "         [0., 0., 0.],\n",
              "         [0., 0., 0.],\n",
              "         [0., 0., 0.],\n",
              "         [0., 0., 0.]],\n",
              "\n",
              "        [[0., 0., 0.],\n",
              "         [0., 0., 0.],\n",
              "         [0., 0., 0.],\n",
              "         [0., 0., 0.],\n",
              "         [0., 0., 0.]]], dtype=torch.float64)"
            ]
          },
          "metadata": {},
          "execution_count": 3
        }
      ],
      "source": [
        "x = torch.zeros(2,5,3,dtype=torch.float64)\n",
        "x"
      ]
    },
    {
      "cell_type": "markdown",
      "metadata": {
        "id": "Djtibq9sH_3A"
      },
      "source": [
        "### 3. 1로 채워진 Tensor 생성하기\n",
        "다음 조건에 맞는 Tensor를 생성하세요.\n",
        "- 4x4 크기의 Tensor\n",
        "- 데이터 타입은 int"
      ]
    },
    {
      "cell_type": "code",
      "execution_count": null,
      "metadata": {
        "colab": {
          "base_uri": "https://localhost:8080/"
        },
        "id": "fkOV4-TVH_3A",
        "outputId": "4f764d15-624a-4b7c-c68b-afdb14a74bbf"
      },
      "outputs": [
        {
          "output_type": "execute_result",
          "data": {
            "text/plain": [
              "tensor([[1, 1, 1, 1],\n",
              "        [1, 1, 1, 1],\n",
              "        [1, 1, 1, 1],\n",
              "        [1, 1, 1, 1]], dtype=torch.int32)"
            ]
          },
          "metadata": {},
          "execution_count": 5
        }
      ],
      "source": [
        "x = torch.ones(4,4,dtype=torch.int)\n",
        "x"
      ]
    },
    {
      "cell_type": "markdown",
      "metadata": {
        "id": "o42l-hj6H_3A"
      },
      "source": [
        "### 4. 랜덤 값으로 채워진 Tensor 생성하기\n",
        "다음 조건에 맞는 Tensor를 생성하세요.\n",
        "- 3x3 크기의 Tensor\n",
        "- 모든 값이 0과 1 사이의 랜덤 값"
      ]
    },
    {
      "cell_type": "code",
      "execution_count": null,
      "metadata": {
        "colab": {
          "base_uri": "https://localhost:8080/"
        },
        "id": "-XeDdQYMH_3A",
        "outputId": "787826e7-1a78-48ed-8d71-181918393e18"
      },
      "outputs": [
        {
          "output_type": "execute_result",
          "data": {
            "text/plain": [
              "tensor([[0.7430, 0.0721, 0.1890],\n",
              "        [0.1919, 0.0231, 0.1124],\n",
              "        [0.7780, 0.4366, 0.8662]])"
            ]
          },
          "metadata": {},
          "execution_count": 6
        }
      ],
      "source": [
        "x = torch.rand(3,3)\n",
        "x"
      ]
    },
    {
      "cell_type": "markdown",
      "metadata": {
        "id": "r2RSqj0eH_3A"
      },
      "source": [
        "### 5. 다차원 Tensor 생성하기\n",
        "다음과 같은 다차원 Tensor를 생성하세요.\n",
        "- 값이 다음과 같은 2x3의 2D 배열\n",
        "    ```\n",
        "    [[1, 2, 3],\n",
        "     [4, 5, 6]]\n",
        "    ```"
      ]
    },
    {
      "cell_type": "code",
      "execution_count": 11,
      "metadata": {
        "id": "pZe2GwJ9H_3A",
        "colab": {
          "base_uri": "https://localhost:8080/"
        },
        "outputId": "0da1f9f6-93e3-4da1-f1f5-a33c6933c0b5"
      },
      "outputs": [
        {
          "output_type": "execute_result",
          "data": {
            "text/plain": [
              "array([[1, 2, 3],\n",
              "       [4, 5, 6]])"
            ]
          },
          "metadata": {},
          "execution_count": 11
        }
      ],
      "source": [
        "x = np.array([[1,2,3],[4,5,6]])\n",
        "x"
      ]
    },
    {
      "cell_type": "markdown",
      "metadata": {
        "id": "HhkMjmdIH_3B"
      },
      "source": [
        "### 6. Tensor의 값을 변경하기\n",
        "1. 표준정규분포의 값을 랜덤으로 갖는 2x2 Tensor를 생성하세요.\n",
        "2. 생성된 Tensor의 값을 모두 0으로 바꿔보세요."
      ]
    },
    {
      "cell_type": "code",
      "execution_count": 8,
      "metadata": {
        "colab": {
          "base_uri": "https://localhost:8080/"
        },
        "id": "dcjP1qX2H_3B",
        "outputId": "33e4bcdd-ff28-4ff9-c86b-57beae645ad3"
      },
      "outputs": [
        {
          "output_type": "execute_result",
          "data": {
            "text/plain": [
              "tensor([[0., 0.],\n",
              "        [0., 0.]])"
            ]
          },
          "metadata": {},
          "execution_count": 8
        }
      ],
      "source": [
        "x = torch.randn(2,2)\n",
        "y = torch.zeros_like(x)\n",
        "y"
      ]
    }
  ],
  "metadata": {
    "language_info": {
      "name": "python"
    },
    "colab": {
      "provenance": [],
      "include_colab_link": true
    },
    "kernelspec": {
      "name": "python3",
      "display_name": "Python 3"
    }
  },
  "nbformat": 4,
  "nbformat_minor": 0
}