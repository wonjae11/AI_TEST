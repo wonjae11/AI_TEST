{
  "nbformat": 4,
  "nbformat_minor": 0,
  "metadata": {
    "colab": {
      "provenance": [],
      "authorship_tag": "ABX9TyMJ130c/0nUxJ5DpqQO5q/J",
      "include_colab_link": true
    },
    "kernelspec": {
      "name": "python3",
      "display_name": "Python 3"
    },
    "language_info": {
      "name": "python"
    }
  },
  "cells": [
    {
      "cell_type": "markdown",
      "metadata": {
        "id": "view-in-github",
        "colab_type": "text"
      },
      "source": [
        "<a href=\"https://colab.research.google.com/github/wonjae11/AI_TEST/blob/main/03_manipulation.ipynb\" target=\"_parent\"><img src=\"https://colab.research.google.com/assets/colab-badge.svg\" alt=\"Open In Colab\"/></a>"
      ]
    },
    {
      "cell_type": "markdown",
      "source": [
        "## 03. 텐서의 조작"
      ],
      "metadata": {
        "id": "nU-NONllx3rU"
      }
    },
    {
      "cell_type": "code",
      "execution_count": null,
      "metadata": {
        "id": "mBMQPv1ix2_R"
      },
      "outputs": [],
      "source": [
        "import torch"
      ]
    },
    {
      "cell_type": "markdown",
      "source": [
        "### 3-1. 인덱싱, 슬라이싱\n",
        "- numpy처럼 활용"
      ],
      "metadata": {
        "id": "-pxj0Tmrx9K9"
      }
    },
    {
      "cell_type": "code",
      "source": [
        "tensor = torch.tensor([[1,2],[3,4]])\n",
        "print(tensor[0,1])\n",
        "print(tensor[0,:])\n",
        "\n",
        "a = torch.tensor([1,2,3,4,5])\n",
        "print(a[-2:])\n",
        "\n",
        "b = torch.tensor([[1,2,3],[4,5,6],[7,8,9]])\n",
        "c = b[b>5]\n",
        "d = b[b % 2 == 0]\n",
        "e = b[[0,1],[1,2]]\n",
        "e"
      ],
      "metadata": {
        "colab": {
          "base_uri": "https://localhost:8080/"
        },
        "id": "n2Q87Na6yM8t",
        "outputId": "2d47d16f-d7b2-4eab-bc41-96b3e523e3c0"
      },
      "execution_count": null,
      "outputs": [
        {
          "output_type": "stream",
          "name": "stdout",
          "text": [
            "tensor(2)\n",
            "tensor([1, 2])\n",
            "tensor([4, 5])\n"
          ]
        },
        {
          "output_type": "execute_result",
          "data": {
            "text/plain": [
              "tensor([2, 6])"
            ]
          },
          "metadata": {},
          "execution_count": 9
        }
      ]
    },
    {
      "cell_type": "markdown",
      "source": [
        "### 3-2. 텐서의 크기, 모양 변경"
      ],
      "metadata": {
        "id": "1uS8WO8T-Bng"
      }
    },
    {
      "cell_type": "code",
      "source": [
        "t = torch.rand(4,5)\n",
        "print(t)\n",
        "x = t.view(5,4)\n",
        "print(x)\n",
        "y = t.view(10,-1)\n",
        "print(y)"
      ],
      "metadata": {
        "colab": {
          "base_uri": "https://localhost:8080/"
        },
        "id": "xG1DUulJ-CQg",
        "outputId": "f592ddf5-cdab-4282-aa5b-1e07249e92c0"
      },
      "execution_count": null,
      "outputs": [
        {
          "output_type": "stream",
          "name": "stdout",
          "text": [
            "tensor([[0.8792, 0.3592, 0.8217, 0.4680, 0.1675],\n",
            "        [0.4226, 0.1241, 0.0751, 0.7895, 0.3625],\n",
            "        [0.4767, 0.3706, 0.4019, 0.3689, 0.7140],\n",
            "        [0.1412, 0.1116, 0.4050, 0.5492, 0.2184]])\n",
            "tensor([[0.8792, 0.3592, 0.8217, 0.4680],\n",
            "        [0.1675, 0.4226, 0.1241, 0.0751],\n",
            "        [0.7895, 0.3625, 0.4767, 0.3706],\n",
            "        [0.4019, 0.3689, 0.7140, 0.1412],\n",
            "        [0.1116, 0.4050, 0.5492, 0.2184]])\n",
            "tensor([[0.8792, 0.3592],\n",
            "        [0.8217, 0.4680],\n",
            "        [0.1675, 0.4226],\n",
            "        [0.1241, 0.0751],\n",
            "        [0.7895, 0.3625],\n",
            "        [0.4767, 0.3706],\n",
            "        [0.4019, 0.3689],\n",
            "        [0.7140, 0.1412],\n",
            "        [0.1116, 0.4050],\n",
            "        [0.5492, 0.2184]])\n"
          ]
        }
      ]
    },
    {
      "cell_type": "markdown",
      "source": [
        "### 3-3. 텐서의 숫자값 얻기"
      ],
      "metadata": {
        "id": "ajI3cxAb-YNF"
      }
    },
    {
      "cell_type": "code",
      "source": [
        "x = torch.tensor(10)\n",
        "print(x.item())\n",
        "\n",
        "y = torch.rand(1)\n",
        "print(y)\n",
        "print(y.item())"
      ],
      "metadata": {
        "colab": {
          "base_uri": "https://localhost:8080/"
        },
        "id": "ouNRw9Vw-ab_",
        "outputId": "96184e22-2ea0-469c-f76e-e988924d7503"
      },
      "execution_count": null,
      "outputs": [
        {
          "output_type": "stream",
          "name": "stdout",
          "text": [
            "10\n",
            "tensor([0.6387])\n",
            "0.6386762857437134\n"
          ]
        }
      ]
    },
    {
      "cell_type": "markdown",
      "source": [
        "### 3-4. 차원 축소와 증가\n"
      ],
      "metadata": {
        "id": "dKARAnid-xS-"
      }
    },
    {
      "cell_type": "markdown",
      "source": [
        "#### 3-4-1. 차원 축소(삭제)\n",
        "- 'torch.squeeze()' : 크기가 1인 차원을 축소함"
      ],
      "metadata": {
        "id": "hKcNlhIp_zVn"
      }
    },
    {
      "cell_type": "code",
      "source": [
        "t = torch.rand(1,3,3)\n",
        "print(t.shape)\n",
        "\n",
        "ts = torch.squeeze(t)\n",
        "\n",
        "print(ts.shape)"
      ],
      "metadata": {
        "colab": {
          "base_uri": "https://localhost:8080/"
        },
        "id": "kRSYjQvq-0M6",
        "outputId": "9478fbce-3aec-4f29-9072-cff57cbf3647"
      },
      "execution_count": null,
      "outputs": [
        {
          "output_type": "stream",
          "name": "stdout",
          "text": [
            "torch.Size([1, 3, 3])\n",
            "torch.Size([3, 3])\n"
          ]
        }
      ]
    },
    {
      "cell_type": "markdown",
      "source": [
        "#### 3-4-2. 차원 증가(생성)\n",
        "- torch.unsqueeze() : 지정한 위치에 새로운 차원 생성"
      ],
      "metadata": {
        "id": "J59pikVB_ih5"
      }
    },
    {
      "cell_type": "code",
      "source": [
        "t = torch.rand(3,3,3)\n",
        "print(t)\n",
        "print(t.shape)\n",
        "\n",
        "ts = torch.unsqueeze(t,2)\n",
        "print(ts)\n",
        "print(ts.shape)"
      ],
      "metadata": {
        "colab": {
          "base_uri": "https://localhost:8080/"
        },
        "id": "Y-6hn68M_tFu",
        "outputId": "db67c8f0-09cf-40cd-e9f4-5462799d1f17"
      },
      "execution_count": null,
      "outputs": [
        {
          "output_type": "stream",
          "name": "stdout",
          "text": [
            "tensor([[[0.5884, 0.8609, 0.3083],\n",
            "         [0.5583, 0.6524, 0.8748],\n",
            "         [0.6835, 0.1149, 0.7219]],\n",
            "\n",
            "        [[0.1893, 0.0398, 0.6459],\n",
            "         [0.5148, 0.2315, 0.0292],\n",
            "         [0.0642, 0.7666, 0.6585]],\n",
            "\n",
            "        [[0.6010, 0.6426, 0.9368],\n",
            "         [0.8182, 0.7840, 0.7700],\n",
            "         [0.4767, 0.0456, 0.6800]]])\n",
            "torch.Size([3, 3, 3])\n",
            "tensor([[[[0.5884, 0.8609, 0.3083]],\n",
            "\n",
            "         [[0.5583, 0.6524, 0.8748]],\n",
            "\n",
            "         [[0.6835, 0.1149, 0.7219]]],\n",
            "\n",
            "\n",
            "        [[[0.1893, 0.0398, 0.6459]],\n",
            "\n",
            "         [[0.5148, 0.2315, 0.0292]],\n",
            "\n",
            "         [[0.0642, 0.7666, 0.6585]]],\n",
            "\n",
            "\n",
            "        [[[0.6010, 0.6426, 0.9368]],\n",
            "\n",
            "         [[0.8182, 0.7840, 0.7700]],\n",
            "\n",
            "         [[0.4767, 0.0456, 0.6800]]]])\n",
            "torch.Size([3, 3, 1, 3])\n"
          ]
        }
      ]
    },
    {
      "cell_type": "markdown",
      "source": [
        "### 3-5. 텐서간 결합"
      ],
      "metadata": {
        "id": "g9tbIwSfAS7a"
      }
    },
    {
      "cell_type": "markdown",
      "source": [
        "- torch.stack() : 동일한 형식의 텐서를 새롭게 그룹화 함"
      ],
      "metadata": {
        "id": "qCbW6tW_Aazl"
      }
    },
    {
      "cell_type": "code",
      "source": [
        "x = torch.tensor([[1,2],[3,4]])\n",
        "y = torch.tensor([[5,6],[7,8]])\n",
        "z = torch.stack([x,y])\n",
        "print(z)\n",
        "print(z.shape)"
      ],
      "metadata": {
        "colab": {
          "base_uri": "https://localhost:8080/"
        },
        "id": "Ak9SjyzvAUUe",
        "outputId": "096d600c-bde4-4a26-a830-b1da74b0d37c"
      },
      "execution_count": null,
      "outputs": [
        {
          "output_type": "stream",
          "name": "stdout",
          "text": [
            "tensor([[[1, 2],\n",
            "         [3, 4]],\n",
            "\n",
            "        [[5, 6],\n",
            "         [7, 8]]])\n",
            "torch.Size([2, 2, 2])\n"
          ]
        }
      ]
    },
    {
      "cell_type": "markdown",
      "source": [
        "- torch.cat() : 하나의 텐서로 병합\n",
        "  - 새로운 차원 생성 X"
      ],
      "metadata": {
        "id": "o23FYVfMBN-p"
      }
    },
    {
      "cell_type": "code",
      "source": [
        "x = torch.tensor([[1,2],[3,4]])\n",
        "y = torch.tensor([[5,6],[7,8]])\n",
        "z = torch.stack([x,y], dim=1)\n",
        "print(z)"
      ],
      "metadata": {
        "colab": {
          "base_uri": "https://localhost:8080/"
        },
        "id": "AgRr7w-CAu5J",
        "outputId": "06bddb8b-12e4-49f4-d580-16892c7c5b6b"
      },
      "execution_count": null,
      "outputs": [
        {
          "output_type": "stream",
          "name": "stdout",
          "text": [
            "tensor([[[1, 2],\n",
            "         [5, 6]],\n",
            "\n",
            "        [[3, 4],\n",
            "         [7, 8]]])\n"
          ]
        }
      ]
    },
    {
      "cell_type": "markdown",
      "source": [
        "### 3-8. 텐서 나누기"
      ],
      "metadata": {
        "id": "N_tL_5uvCEqg"
      }
    },
    {
      "cell_type": "markdown",
      "source": [
        "- torch.chunk():\n",
        "  - 텐서를 몇개로 나눌지 지정\n",
        "  - 나누어 떨어지지 않으면 마지막 조각은 크기 다를 수 있음"
      ],
      "metadata": {
        "id": "L94Fg8v0CHSQ"
      }
    },
    {
      "cell_type": "code",
      "source": [
        "t = torch.rand(5,3)\n",
        "print(t)\n",
        "\n",
        "a,b,c = torch.chunk(t,3,dim=0)\n",
        "print(a,b,c)"
      ],
      "metadata": {
        "colab": {
          "base_uri": "https://localhost:8080/"
        },
        "id": "gGElplyACGUR",
        "outputId": "ae120b56-e208-45cf-fdb9-0047ab4c1f41"
      },
      "execution_count": null,
      "outputs": [
        {
          "output_type": "stream",
          "name": "stdout",
          "text": [
            "tensor([[0.3983, 0.7039, 0.1805],\n",
            "        [0.6355, 0.2210, 0.8071],\n",
            "        [0.6719, 0.6615, 0.1890],\n",
            "        [0.0873, 0.0945, 0.2303],\n",
            "        [0.4693, 0.7071, 0.4894]])\n",
            "tensor([[0.3983, 0.7039, 0.1805],\n",
            "        [0.6355, 0.2210, 0.8071]]) tensor([[0.6719, 0.6615, 0.1890],\n",
            "        [0.0873, 0.0945, 0.2303]]) tensor([[0.4693, 0.7071, 0.4894]])\n"
          ]
        }
      ]
    },
    {
      "cell_type": "markdown",
      "source": [
        "- torch.split()\n",
        "  - 텐서의 크기를 기준으로 나눔"
      ],
      "metadata": {
        "id": "l2xcYQpnDHL7"
      }
    },
    {
      "cell_type": "code",
      "source": [
        "t = torch.rand(3,6)\n",
        "print(t)\n",
        "\n",
        "x = torch.split(t,3,dim=1)\n",
        "print(x)"
      ],
      "metadata": {
        "colab": {
          "base_uri": "https://localhost:8080/"
        },
        "id": "qSEjpFoXDV1t",
        "outputId": "a3bff034-75b7-410c-dfa1-81609e943d11"
      },
      "execution_count": null,
      "outputs": [
        {
          "output_type": "stream",
          "name": "stdout",
          "text": [
            "tensor([[0.8993, 0.4029, 0.8680, 0.1593, 0.7361, 0.2660],\n",
            "        [0.0808, 0.1754, 0.4686, 0.2308, 0.5309, 0.8751],\n",
            "        [0.4405, 0.1239, 0.4436, 0.1495, 0.5999, 0.3685]])\n",
            "(tensor([[0.8993, 0.4029, 0.8680],\n",
            "        [0.0808, 0.1754, 0.4686],\n",
            "        [0.4405, 0.1239, 0.4436]]), tensor([[0.1593, 0.7361, 0.2660],\n",
            "        [0.2308, 0.5309, 0.8751],\n",
            "        [0.1495, 0.5999, 0.3685]]))\n"
          ]
        }
      ]
    },
    {
      "cell_type": "code",
      "source": [
        "t = torch.tensor([1,2,3,4,5])\n",
        "print(t)\n",
        "\n",
        "x,y,z = torch.split(t,[2,2,1],dim=0)\n",
        "print(x)\n",
        "print(y)\n",
        "print(z)"
      ],
      "metadata": {
        "colab": {
          "base_uri": "https://localhost:8080/"
        },
        "id": "tC9zChh3EZA8",
        "outputId": "cfba96c6-5a40-4587-d7fb-f82264e0a531"
      },
      "execution_count": null,
      "outputs": [
        {
          "output_type": "stream",
          "name": "stdout",
          "text": [
            "tensor([1, 2, 3, 4, 5])\n",
            "tensor([1, 2])\n",
            "tensor([3, 4])\n",
            "tensor([5])\n"
          ]
        }
      ]
    }
  ]
}