{
  "nbformat": 4,
  "nbformat_minor": 0,
  "metadata": {
    "colab": {
      "provenance": [],
      "authorship_tag": "ABX9TyPMShMYTmBp6zJaizXNIWtp",
      "include_colab_link": true
    },
    "kernelspec": {
      "name": "python3",
      "display_name": "Python 3"
    },
    "language_info": {
      "name": "python"
    }
  },
  "cells": [
    {
      "cell_type": "markdown",
      "metadata": {
        "id": "view-in-github",
        "colab_type": "text"
      },
      "source": [
        "<a href=\"https://colab.research.google.com/github/wonjae11/AI_TEST/blob/main/04_autograd.ipynb\" target=\"_parent\"><img src=\"https://colab.research.google.com/assets/colab-badge.svg\" alt=\"Open In Colab\"/></a>"
      ]
    },
    {
      "cell_type": "markdown",
      "source": [
        "## 04. 자동미분"
      ],
      "metadata": {
        "id": "W-5pTmksrlMJ"
      }
    },
    {
      "cell_type": "code",
      "execution_count": 1,
      "metadata": {
        "id": "VGKdZNwnriWk"
      },
      "outputs": [],
      "source": [
        "import torch"
      ]
    },
    {
      "cell_type": "markdown",
      "source": [
        "### 4-1. requires_grad"
      ],
      "metadata": {
        "id": "UXzGD6OZryP6"
      }
    },
    {
      "cell_type": "code",
      "source": [
        "x = torch.rand(3, requires_grad=True)\n",
        "print(x)\n",
        "print(x.grad)\n",
        "print(x.grad_fn)\n",
        "print(x.requires_grad)"
      ],
      "metadata": {
        "colab": {
          "base_uri": "https://localhost:8080/"
        },
        "id": "G_6CY_Iirx9P",
        "outputId": "adabdef2-fb3e-4b6d-e399-bb7cc669f542"
      },
      "execution_count": 5,
      "outputs": [
        {
          "output_type": "stream",
          "name": "stdout",
          "text": [
            "tensor([0.9523, 0.0217, 0.9637], requires_grad=True)\n",
            "None\n",
            "None\n",
            "True\n"
          ]
        }
      ]
    },
    {
      "cell_type": "code",
      "source": [
        "y = 2 * x\n",
        "print(y)\n",
        "print(y.grad)\n",
        "print(y.grad_fn)\n",
        "print(y.requires_grad)"
      ],
      "metadata": {
        "colab": {
          "base_uri": "https://localhost:8080/"
        },
        "id": "elxjeJ-2slOM",
        "outputId": "92dccef3-da28-4c1b-b833-65d5e0594bc6"
      },
      "execution_count": 7,
      "outputs": [
        {
          "output_type": "stream",
          "name": "stdout",
          "text": [
            "tensor([1.9045, 0.0435, 1.9274], grad_fn=<MulBackward0>)\n",
            "None\n",
            "<MulBackward0 object at 0x7cd0264cbcd0>\n",
            "True\n"
          ]
        },
        {
          "output_type": "stream",
          "name": "stderr",
          "text": [
            "<ipython-input-7-9c3e4a13d414>:3: UserWarning: The .grad attribute of a Tensor that is not a leaf Tensor is being accessed. Its .grad attribute won't be populated during autograd.backward(). If you indeed want the .grad field to be populated for a non-leaf Tensor, use .retain_grad() on the non-leaf Tensor. If you access the non-leaf Tensor by mistake, make sure you access the leaf Tensor instead. See github.com/pytorch/pytorch/pull/30531 for more informations. (Triggered internally at aten/src/ATen/core/TensorBody.h:489.)\n",
            "  print(y.grad)\n"
          ]
        }
      ]
    },
    {
      "cell_type": "code",
      "source": [
        "z = y ** 2\n",
        "print(z)\n",
        "print(z.grad)\n",
        "print(z.grad_fn)\n",
        "print(z.requires_grad)"
      ],
      "metadata": {
        "colab": {
          "base_uri": "https://localhost:8080/"
        },
        "id": "WDqdjih5tSlq",
        "outputId": "5119cc46-f87e-4570-fa31-ddd469259858"
      },
      "execution_count": 8,
      "outputs": [
        {
          "output_type": "stream",
          "name": "stdout",
          "text": [
            "tensor([3.6271e+00, 1.8881e-03, 3.7148e+00], grad_fn=<PowBackward0>)\n",
            "None\n",
            "<PowBackward0 object at 0x7cd0264cb070>\n",
            "True\n"
          ]
        },
        {
          "output_type": "stream",
          "name": "stderr",
          "text": [
            "<ipython-input-8-3f89fad9a690>:3: UserWarning: The .grad attribute of a Tensor that is not a leaf Tensor is being accessed. Its .grad attribute won't be populated during autograd.backward(). If you indeed want the .grad field to be populated for a non-leaf Tensor, use .retain_grad() on the non-leaf Tensor. If you access the non-leaf Tensor by mistake, make sure you access the leaf Tensor instead. See github.com/pytorch/pytorch/pull/30531 for more informations. (Triggered internally at aten/src/ATen/core/TensorBody.h:489.)\n",
            "  print(z.grad)\n"
          ]
        }
      ]
    },
    {
      "cell_type": "markdown",
      "source": [
        "### 4-2. Backward()\n",
        "- x -> y -> z 계산에서 역전파를 통해 기울기를 구함"
      ],
      "metadata": {
        "id": "rTvtgrn_thSJ"
      }
    },
    {
      "cell_type": "code",
      "source": [
        "result = z.sum()\n",
        "result.backward()"
      ],
      "metadata": {
        "id": "ytdoy7K_tgn5"
      },
      "execution_count": 9,
      "outputs": []
    },
    {
      "cell_type": "code",
      "source": [
        "print(z)\n",
        "print(x.grad)"
      ],
      "metadata": {
        "colab": {
          "base_uri": "https://localhost:8080/"
        },
        "id": "UUvp5oHAuTZb",
        "outputId": "61b5e6a7-df37-48c6-b533-14fd04a9c798"
      },
      "execution_count": 10,
      "outputs": [
        {
          "output_type": "stream",
          "name": "stdout",
          "text": [
            "tensor([3.6271e+00, 1.8881e-03, 3.7148e+00], grad_fn=<PowBackward0>)\n",
            "tensor([7.6180, 0.1738, 7.7095])\n"
          ]
        }
      ]
    },
    {
      "cell_type": "markdown",
      "source": [
        "### 4-3. no_grad()\n",
        "- 역전파를 중지"
      ],
      "metadata": {
        "id": "g9q7-qm0v7Eb"
      }
    },
    {
      "cell_type": "code",
      "source": [
        "x = torch.tensor(1.0, requires_grad=True)\n",
        "print(x.requires_grad)\n",
        "# print((x ** 2).requires_grad)\n",
        "\n",
        "with torch.no_grad():\n",
        "  y = x ** 2\n",
        "  print(x.requires_grad)\n",
        "  print(y.requires_grad)"
      ],
      "metadata": {
        "colab": {
          "base_uri": "https://localhost:8080/"
        },
        "id": "q7SsgiOVv_bN",
        "outputId": "1dc02203-42bd-45cd-a002-f0536361f2d8"
      },
      "execution_count": 14,
      "outputs": [
        {
          "output_type": "stream",
          "name": "stdout",
          "text": [
            "True\n",
            "True\n",
            "False\n"
          ]
        }
      ]
    },
    {
      "cell_type": "markdown",
      "source": [
        "### 3-4. detach()"
      ],
      "metadata": {
        "id": "aWQWbCI2xOtw"
      }
    },
    {
      "cell_type": "code",
      "source": [
        "y.detach()"
      ],
      "metadata": {
        "colab": {
          "base_uri": "https://localhost:8080/"
        },
        "id": "waIIjU5AxUm-",
        "outputId": "c842434e-be2b-4e28-f94a-801f80c261d3"
      },
      "execution_count": 15,
      "outputs": [
        {
          "output_type": "execute_result",
          "data": {
            "text/plain": [
              "tensor(1.)"
            ]
          },
          "metadata": {},
          "execution_count": 15
        }
      ]
    },
    {
      "cell_type": "markdown",
      "source": [
        "### 실습. 선형 회귀 실습"
      ],
      "metadata": {
        "id": "uZh8PRTt1A1u"
      }
    },
    {
      "cell_type": "code",
      "source": [
        "import torch.nn as nn\n",
        "import torch.optim as optim\n",
        "import matplotlib.pyplot as plt\n",
        "\n",
        "# 1. 입출력 정의\n",
        "x = torch.linspace(0, 10, 100).view(-1, 1)\n",
        "y = 3 * x + 2 + torch.randn(100, 1) * 2\n",
        "\n",
        "# 2. 모델 만들기\n",
        "class LinearRegressionModel(nn.Module):\n",
        "  def __init__(self):\n",
        "    super(LinearRegressionModel, self).__init__()\n",
        "    self.linear = nn.Linear(1, 1)\n",
        "\n",
        "  def forward(self, x):\n",
        "    return self.linear(x)\n",
        "\n",
        "model = LinearRegressionModel()\n",
        "\n",
        "# 3. 손실함수 정의\n",
        "# 손실함수 선택\n",
        "loss_function = nn.MSELoss()\n",
        "\n",
        "# 4. 가중치 업데이트\n",
        "# 경사하강법 -> 어떤 것을 사용할지 선택\n",
        "optimizer = optim.SGD(model.parameters(), lr=0.01)\n",
        "\n",
        "# 5. 학습 반복\n",
        "epochs = 1000\n",
        "losses = []\n",
        "\n",
        "for epoch in range(epochs):\n",
        "  optimizer.zero_grad() # 기울기 초기화\n",
        "  outputs = model(x) # 예측값 계산\n",
        "  loss = loss_function(outputs, y) # 손실 계산\n",
        "  loss.backward() # 역전파\n",
        "  optimizer.step() # 가중치 업데이트\n",
        "\n",
        "  losses.append(loss.item()) # 손실값 저장\n",
        "\n",
        "  if (epoch + 1) % 50 == 0:\n",
        "    print(f'Epoch [{epoch + 1}/{epochs}], Loss: {loss.item():.4f}')\n",
        "\n",
        "\n",
        "# 6. 결과 시각화\n",
        "plt.figure(figsize=(10, 5))\n",
        "plt.subplot(1,2,1)\n",
        "plt.plot(losses, label='Loss')\n",
        "plt.title('Loss over Epochs')\n",
        "plt.xlabel('Epoch')\n",
        "plt.ylabel('Loss')\n",
        "plt.ylim(0, 20)\n",
        "\n",
        "# 데이터와 예측 결과 시각화\n",
        "plt.subplot(1,2,2)\n",
        "plt.scatter(x.numpy(), y.numpy(), color = 'red', label='Original Data')\n",
        "plt.plot(x.numpy(), model(x).detach().numpy(), label='Fitted Line')\n",
        "plt.title('Linear Regression Fit')\n",
        "plt.xlabel('x')\n",
        "plt.ylabel('y')\n",
        "plt.legend()\n",
        "plt.show()\n",
        "\n",
        "# 최종 모델 파라미터 확인\n",
        "print(\"Model parameters\")\n",
        "for name, param in model.named_parameters():\n",
        "  print(f\"{name}: {param.data}\")\n"
      ],
      "metadata": {
        "colab": {
          "base_uri": "https://localhost:8080/",
          "height": 854
        },
        "id": "dVvvgPr11D4n",
        "outputId": "842fe40a-4951-4d26-8333-9538149ae35d"
      },
      "execution_count": 33,
      "outputs": [
        {
          "output_type": "stream",
          "name": "stdout",
          "text": [
            "Epoch [50/1000], Loss: 4.5001\n",
            "Epoch [100/1000], Loss: 4.4372\n",
            "Epoch [150/1000], Loss: 4.3990\n",
            "Epoch [200/1000], Loss: 4.3758\n",
            "Epoch [250/1000], Loss: 4.3616\n",
            "Epoch [300/1000], Loss: 4.3530\n",
            "Epoch [350/1000], Loss: 4.3478\n",
            "Epoch [400/1000], Loss: 4.3446\n",
            "Epoch [450/1000], Loss: 4.3427\n",
            "Epoch [500/1000], Loss: 4.3415\n",
            "Epoch [550/1000], Loss: 4.3408\n",
            "Epoch [600/1000], Loss: 4.3404\n",
            "Epoch [650/1000], Loss: 4.3401\n",
            "Epoch [700/1000], Loss: 4.3400\n",
            "Epoch [750/1000], Loss: 4.3399\n",
            "Epoch [800/1000], Loss: 4.3398\n",
            "Epoch [850/1000], Loss: 4.3398\n",
            "Epoch [900/1000], Loss: 4.3398\n",
            "Epoch [950/1000], Loss: 4.3397\n",
            "Epoch [1000/1000], Loss: 4.3397\n"
          ]
        },
        {
          "output_type": "display_data",
          "data": {
            "text/plain": [
              "<Figure size 1000x500 with 2 Axes>"
            ],
            "image/png": "[encoded data removed]"
          },
          "metadata": {}
        }
      ]
    },
    {
      "cell_type": "code",
      "source": [],
      "metadata": {
        "id": "MrIy8Kjk6dhm"
      },
      "execution_count": null,
      "outputs": []
    }
  ]
}