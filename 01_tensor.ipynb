{
  "nbformat": 4,
  "nbformat_minor": 0,
  "metadata": {
    "colab": {
      "provenance": [],
      "gpuType": "T4",
      "authorship_tag": "ABX9TyNm+Y844twKLjFTmHtc0JJD",
      "include_colab_link": true
    },
    "kernelspec": {
      "name": "python3",
      "display_name": "Python 3"
    },
    "language_info": {
      "name": "python"
    },
    "accelerator": "GPU"
  },
  "cells": [
    {
      "cell_type": "markdown",
      "metadata": {
        "id": "view-in-github",
        "colab_type": "text"
      },
      "source": [
        "<a href=\"https://colab.research.google.com/github/wonjae11/AI_TEST/blob/main/01_tensor.ipynb\" target=\"_parent\"><img src=\"https://colab.research.google.com/assets/colab-badge.svg\" alt=\"Open In Colab\"/></a>"
      ]
    },
    {
      "cell_type": "markdown",
      "source": [
        "## 01. 텐서 초기화\n",
        "- 초기화 : 텐서에서 특정 값을 채워서 생성하는 것"
      ],
      "metadata": {
        "id": "F9g9unV-DT86"
      }
    },
    {
      "cell_type": "code",
      "execution_count": 2,
      "metadata": {
        "id": "FpPl8E-uDSEo"
      },
      "outputs": [],
      "source": [
        "import torch\n",
        "import numpy as np"
      ]
    },
    {
      "cell_type": "markdown",
      "source": [
        "### 1-1. 초기화 되지 않은 텐서\n",
        "- 특정한 값이 채워지지 않은 상태로 생성하는 것"
      ],
      "metadata": {
        "id": "RnH7Ee_EDf4k"
      }
    },
    {
      "cell_type": "code",
      "source": [
        "tensor = torch.empty(4,2)\n",
        "print(tensor)"
      ],
      "metadata": {
        "colab": {
          "base_uri": "https://localhost:8080/"
        },
        "id": "dgG2nMSQDkqe",
        "outputId": "d970ebe2-9751-433f-dde3-3dbcff774718"
      },
      "execution_count": null,
      "outputs": [
        {
          "output_type": "stream",
          "name": "stdout",
          "text": [
            "tensor([[7.0062e+22, 2.1715e-18],\n",
            "        [4.5447e+30, 7.0062e+22],\n",
            "        [2.1707e-18, 1.9284e+31],\n",
            "        [3.2314e-18, 9.6635e-06]])\n"
          ]
        }
      ]
    },
    {
      "cell_type": "markdown",
      "source": [
        "### 1-2. 상수로 초기화된 텐서\n",
        "- 'torch.zeros()'\n",
        "- 'torch.ones()'"
      ],
      "metadata": {
        "id": "HRIcFflrD4zQ"
      }
    },
    {
      "cell_type": "code",
      "source": [
        "a = torch.ones(3,4, dtype=torch.long) # dtype= 데이터타입 지정\n",
        "b = torch.zeros(2,2)\n",
        "print(a)\n",
        "print(b)"
      ],
      "metadata": {
        "colab": {
          "base_uri": "https://localhost:8080/"
        },
        "id": "En6anKmuDaE6",
        "outputId": "677817db-aec7-4969-e7bf-61a60659b380"
      },
      "execution_count": null,
      "outputs": [
        {
          "output_type": "stream",
          "name": "stdout",
          "text": [
            "tensor([[1, 1, 1, 1],\n",
            "        [1, 1, 1, 1],\n",
            "        [1, 1, 1, 1]])\n",
            "tensor([[0., 0.],\n",
            "        [0., 0.]])\n"
          ]
        }
      ]
    },
    {
      "cell_type": "markdown",
      "source": [
        "### 1-3. 무작위로 초기화된 텐서\n",
        "- 'torch.rand()' : 0~1사이의 값으로 무작위로 초기화\n",
        "- 'torch.randn()' : 표준정규분포에서 무작위로 초기화"
      ],
      "metadata": {
        "id": "4trkm9QYEl_9"
      }
    },
    {
      "cell_type": "code",
      "source": [
        "a = torch.rand(3,3)\n",
        "b = torch.randn(3,3)\n",
        "b"
      ],
      "metadata": {
        "colab": {
          "base_uri": "https://localhost:8080/"
        },
        "id": "mE3z30DmEs4A",
        "outputId": "e4d7c117-f818-48ad-dba6-6c831087f093"
      },
      "execution_count": null,
      "outputs": [
        {
          "output_type": "execute_result",
          "data": {
            "text/plain": [
              "tensor([[ 0.0086, -0.4802,  0.6112],\n",
              "        [-0.3770,  0.8562,  0.2378],\n",
              "        [-0.5292,  1.1741, -2.5302]])"
            ]
          },
          "metadata": {},
          "execution_count": 7
        }
      ]
    },
    {
      "cell_type": "markdown",
      "source": [
        "### 1-4. 직접 입력한 값으로 초기화\n"
      ],
      "metadata": {
        "id": "ZUui3jqdFGLt"
      }
    },
    {
      "cell_type": "code",
      "source": [
        "a = torch.tensor([1,2.3])\n",
        "a"
      ],
      "metadata": {
        "colab": {
          "base_uri": "https://localhost:8080/"
        },
        "id": "hb0bo6T7EvzY",
        "outputId": "950602f4-da94-4e21-c771-78a9cb9d8498"
      },
      "execution_count": null,
      "outputs": [
        {
          "output_type": "execute_result",
          "data": {
            "text/plain": [
              "tensor([1.0000, 2.3000])"
            ]
          },
          "metadata": {},
          "execution_count": 8
        }
      ]
    },
    {
      "cell_type": "markdown",
      "source": [
        "### 1-5. Numpy 배열로부터 초기화"
      ],
      "metadata": {
        "id": "eE04maLoFgRS"
      }
    },
    {
      "cell_type": "code",
      "source": [
        "nd_arr = np.array([1,2,3])\n",
        "a = torch.from_numpy(nd_arr)\n",
        "\n",
        "b = torch.tensor([1,2.3])\n",
        "new_nd = b.numpy()\n",
        "type(new_nd)"
      ],
      "metadata": {
        "colab": {
          "base_uri": "https://localhost:8080/"
        },
        "id": "iwLgqrezFlqn",
        "outputId": "acca27eb-3a46-4ee7-bf57-04d66120ef4c"
      },
      "execution_count": null,
      "outputs": [
        {
          "output_type": "execute_result",
          "data": {
            "text/plain": [
              "numpy.ndarray"
            ]
          },
          "metadata": {},
          "execution_count": 13
        }
      ]
    },
    {
      "cell_type": "markdown",
      "source": [
        "### 1-6. 특정 텐서와 같은 사이즈, 무작위로 값을 채움"
      ],
      "metadata": {
        "id": "5ycqirN1GaHb"
      }
    },
    {
      "cell_type": "code",
      "source": [
        "a = torch.ones(3,4, dtype=torch.long)\n",
        "b = torch.zeros_like(a, dtype=torch.float)\n",
        "b"
      ],
      "metadata": {
        "colab": {
          "base_uri": "https://localhost:8080/"
        },
        "id": "WHHC9df-Gia5",
        "outputId": "7ff9923d-5754-4136-881a-e0775708a00b"
      },
      "execution_count": null,
      "outputs": [
        {
          "output_type": "execute_result",
          "data": {
            "text/plain": [
              "tensor([[0., 0., 0., 0.],\n",
              "        [0., 0., 0., 0.],\n",
              "        [0., 0., 0., 0.]])"
            ]
          },
          "metadata": {},
          "execution_count": 15
        }
      ]
    },
    {
      "cell_type": "markdown",
      "source": [
        "### 1-7. 텐서의 속성"
      ],
      "metadata": {
        "id": "-H9Mvo1mQuA9"
      }
    },
    {
      "cell_type": "code",
      "source": [
        "tensor = torch.rand(3,4, dtype=torch.float64)\n",
        "print(tensor.size())\n",
        "print(tensor.shape)\n",
        "print(tensor.dtype)\n",
        "print(tensor.device)"
      ],
      "metadata": {
        "colab": {
          "base_uri": "https://localhost:8080/"
        },
        "id": "R3VJTJbEQwnN",
        "outputId": "5d796e76-a1e3-46b6-82ab-20d7947de457"
      },
      "execution_count": 7,
      "outputs": [
        {
          "output_type": "stream",
          "name": "stdout",
          "text": [
            "torch.Size([3, 4])\n",
            "torch.Size([3, 4])\n",
            "torch.float64\n",
            "cpu\n"
          ]
        }
      ]
    },
    {
      "cell_type": "markdown",
      "source": [
        "### 1-8. 특정 타입의 텐서 생성"
      ],
      "metadata": {
        "id": "ZUqSy-MNR1v3"
      }
    },
    {
      "cell_type": "code",
      "source": [
        "tensor = torch.rand(3,4,dtype=torch.float64)\n",
        "tensor.dtype\n",
        "\n",
        "float_tensor = torch.FloatTensor([1,2,3])\n",
        "print(float_tensor)\n",
        "\n",
        "int_tensor = torch.IntTensor([1.1,2.3,3.4])\n",
        "print(int_tensor)\n",
        "print(int_tensor.dtype)"
      ],
      "metadata": {
        "colab": {
          "base_uri": "https://localhost:8080/"
        },
        "id": "fnFTUlW7R5XM",
        "outputId": "c1ef4295-3224-46d1-ed30-5b8cb80f4786"
      },
      "execution_count": 9,
      "outputs": [
        {
          "output_type": "stream",
          "name": "stdout",
          "text": [
            "tensor([1., 2., 3.])\n",
            "tensor([1, 2, 3], dtype=torch.int32)\n",
            "torch.int32\n"
          ]
        }
      ]
    },
    {
      "cell_type": "markdown",
      "source": [
        "### 1-9. 데이터 타입 캐스팅"
      ],
      "metadata": {
        "id": "sqSX2jpISpn6"
      }
    },
    {
      "cell_type": "code",
      "source": [
        "float_tensor = torch.FloatTensor([1,2,3])\n",
        "print(float_tensor.int())\n",
        "\n",
        "int_tensor = torch.IntTensor([1,2,3])\n",
        "print(int_tensor.float())"
      ],
      "metadata": {
        "colab": {
          "base_uri": "https://localhost:8080/"
        },
        "id": "ane61IubStIe",
        "outputId": "b53c6ad3-3193-46e3-dd9e-a797f41085b8"
      },
      "execution_count": 10,
      "outputs": [
        {
          "output_type": "stream",
          "name": "stdout",
          "text": [
            "tensor([1, 2, 3], dtype=torch.int32)\n",
            "tensor([1., 2., 3.])\n"
          ]
        }
      ]
    },
    {
      "cell_type": "markdown",
      "source": [
        "### 1-10. CUDA 텐서"
      ],
      "metadata": {
        "id": "jDDeRD96Tbiq"
      }
    },
    {
      "cell_type": "code",
      "source": [
        "a = torch.ones(3,4, dtype=torch.long)\n",
        "device = torch.device(\"cuda\" if torch.cuda.is_available() else \"cpu\")\n",
        "tensor = tensor.to(device)\n",
        "tensor.device"
      ],
      "metadata": {
        "colab": {
          "base_uri": "https://localhost:8080/"
        },
        "id": "Ov6l9TaITe1B",
        "outputId": "1c7991ec-27da-4bb2-b3c1-ea28d4243937"
      },
      "execution_count": 12,
      "outputs": [
        {
          "output_type": "execute_result",
          "data": {
            "text/plain": [
              "device(type='cuda', index=0)"
            ]
          },
          "metadata": {},
          "execution_count": 12
        }
      ]
    },
    {
      "cell_type": "markdown",
      "source": [
        "### 1-11. 다차원 텐서"
      ],
      "metadata": {
        "id": "Ko1UHfPkVAEH"
      }
    },
    {
      "cell_type": "markdown",
      "source": [
        "#### 1-11-1. 0D Tensor(Scalar)\n",
        "- 하나의 값을 담고 있는 텐서\n",
        "\n"
      ],
      "metadata": {
        "id": "FmlbBztTVGur"
      }
    },
    {
      "cell_type": "code",
      "source": [
        "t0 = torch.tensor(100)\n",
        "print(t0.ndim)\n",
        "print(t0.shape)\n",
        "print(t0)"
      ],
      "metadata": {
        "colab": {
          "base_uri": "https://localhost:8080/"
        },
        "id": "9k8DSb4oVM7D",
        "outputId": "cd7b05d5-0e2f-4cd5-fff6-cab50169a3f6"
      },
      "execution_count": 15,
      "outputs": [
        {
          "output_type": "stream",
          "name": "stdout",
          "text": [
            "0\n",
            "torch.Size([])\n",
            "tensor(100)\n"
          ]
        }
      ]
    },
    {
      "cell_type": "markdown",
      "source": [
        "#### 1-11-2. 1D Tensor(Vector)\n",
        "- 값들을 저장하고 있는 리스트와 유사한 텐서"
      ],
      "metadata": {
        "id": "-ceoFOQrVspd"
      }
    },
    {
      "cell_type": "code",
      "source": [
        "t1 = torch.tensor([1,2,3])\n",
        "print(t1.ndim)\n",
        "print(t1.shape)\n",
        "print(t1)"
      ],
      "metadata": {
        "colab": {
          "base_uri": "https://localhost:8080/"
        },
        "id": "WWfvFqhfV2qg",
        "outputId": "eab898a3-fbf4-4243-c527-11e89116d3d7"
      },
      "execution_count": 16,
      "outputs": [
        {
          "output_type": "stream",
          "name": "stdout",
          "text": [
            "1\n",
            "torch.Size([3])\n",
            "tensor([1, 2, 3])\n"
          ]
        }
      ]
    },
    {
      "cell_type": "markdown",
      "source": [
        "#### 1-11-3. 2D Tensor(Matrix)\n",
        "- 행렬과 같은 모양으로 두개의 축이 존재"
      ],
      "metadata": {
        "id": "ultyU8UaV-3C"
      }
    },
    {
      "cell_type": "code",
      "source": [
        "t2 = torch.tensor([[1,2,3],[4,5,6]])\n",
        "print(t2.ndim)\n",
        "print(t2.shape)\n",
        "print(t2)"
      ],
      "metadata": {
        "colab": {
          "base_uri": "https://localhost:8080/"
        },
        "id": "tnyg-LbWWF4b",
        "outputId": "c8c244f5-839a-4094-9614-ee39a5b356c8"
      },
      "execution_count": 17,
      "outputs": [
        {
          "output_type": "stream",
          "name": "stdout",
          "text": [
            "2\n",
            "torch.Size([2, 3])\n",
            "tensor([[1, 2, 3],\n",
            "        [4, 5, 6]])\n"
          ]
        }
      ]
    },
    {
      "cell_type": "markdown",
      "source": [
        "#### 1-11-4. 3D Tensor(Cube)\n",
        "- 큐브와 같은 형태로 세 개의 축이 존재"
      ],
      "metadata": {
        "id": "cHcVHvYMWbQ0"
      }
    },
    {
      "cell_type": "code",
      "source": [
        "t3 = torch.tensor([[[1,2,3],[4,5,6],[7,8,9]],\n",
        "                  [[1,2,3],[4,5,6],[7,8,9]],\n",
        "                  [[1,2,3],[4,5,6],[7,8,9]]])\n",
        "print(t3.ndim)\n",
        "print(t3.shape)\n",
        "print(t3)"
      ],
      "metadata": {
        "colab": {
          "base_uri": "https://localhost:8080/"
        },
        "id": "TPg37VbsWg9K",
        "outputId": "d87f4b3e-60ed-49ef-99f4-c8e4ac1aed51"
      },
      "execution_count": 19,
      "outputs": [
        {
          "output_type": "stream",
          "name": "stdout",
          "text": [
            "3\n",
            "torch.Size([3, 3, 3])\n",
            "tensor([[[1, 2, 3],\n",
            "         [4, 5, 6],\n",
            "         [7, 8, 9]],\n",
            "\n",
            "        [[1, 2, 3],\n",
            "         [4, 5, 6],\n",
            "         [7, 8, 9]],\n",
            "\n",
            "        [[1, 2, 3],\n",
            "         [4, 5, 6],\n",
            "         [7, 8, 9]]])\n"
          ]
        }
      ]
    },
    {
      "cell_type": "markdown",
      "source": [
        "#### 1-11-5. 4D Tensor\n",
        "- 4개의 축"
      ],
      "metadata": {
        "id": "1ddHgK35XU4J"
      }
    },
    {
      "cell_type": "code",
      "source": [
        "t4 = torch.rand(3,2,3,2)\n",
        "\n",
        "print(t4.ndim)\n",
        "print(t4.shape)\n",
        "print(t4)"
      ],
      "metadata": {
        "colab": {
          "base_uri": "https://localhost:8080/"
        },
        "id": "o5cYgPb8Xfl0",
        "outputId": "98baf8b2-94fe-4e2a-b927-8d6d5fa18b28"
      },
      "execution_count": 21,
      "outputs": [
        {
          "output_type": "stream",
          "name": "stdout",
          "text": [
            "4\n",
            "torch.Size([3, 2, 3, 2])\n",
            "tensor([[[[0.2736, 0.1730],\n",
            "          [0.6988, 0.2174],\n",
            "          [0.5597, 0.0534]],\n",
            "\n",
            "         [[0.2217, 0.4346],\n",
            "          [0.2174, 0.5726],\n",
            "          [0.9196, 0.6357]]],\n",
            "\n",
            "\n",
            "        [[[0.2325, 0.8658],\n",
            "          [0.0920, 0.1589],\n",
            "          [0.9807, 0.3950]],\n",
            "\n",
            "         [[0.3178, 0.5047],\n",
            "          [0.5269, 0.7902],\n",
            "          [0.2728, 0.3476]]],\n",
            "\n",
            "\n",
            "        [[[0.4989, 0.3480],\n",
            "          [0.8484, 0.2056],\n",
            "          [0.9261, 0.2715]],\n",
            "\n",
            "         [[0.9645, 0.9006],\n",
            "          [0.0390, 0.9710],\n",
            "          [0.8960, 0.2127]]]])\n"
          ]
        }
      ]
    }
  ]
}